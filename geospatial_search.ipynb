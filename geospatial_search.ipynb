{
 "cells": [
  {
   "cell_type": "markdown",
   "metadata": {},
   "source": [
    "Geospatial search of python dictionary\n",
    "======================================\n",
    "A few notes:\n",
    "------------\n",
    "\n",
    "1. The code is in another file named closest_cities.py\n",
    "2. Within closest_cities.py, I import your dictionary with the cities and their corresponding values\n",
    "3. Your dictionary needed some correcting because of syntax Errors\n",
    "    1. The IP addresses needed to be a string\n",
    "    2. Some items in the zone values were missing a closing quotation mark\n",
    "\n",
    "The function closest_cities takes 3 arguments:\n",
    "    1. Latitude 2. Longitude, 3. Zone\n",
    "\n",
    "Result:\n",
    "    The closest cities to the specified location within the designated zone"
   ]
  },
  {
   "cell_type": "code",
   "execution_count": 1,
   "metadata": {
    "collapsed": true
   },
   "outputs": [],
   "source": [
    "from closest_cities import closest_cities"
   ]
  },
  {
   "cell_type": "code",
   "execution_count": 2,
   "metadata": {
    "collapsed": false
   },
   "outputs": [
    {
     "data": {
      "text/plain": [
       "{'Brussels': {'IP': '208.65.255.10'}, 'Paris': {'IP': '208.65.255.10'}}"
      ]
     },
     "execution_count": 2,
     "metadata": {},
     "output_type": "execute_result"
    }
   ],
   "source": [
    "# Brussels, Belgium\n",
    "closest_cities(50.850346, 4.351721, 3) "
   ]
  },
  {
   "cell_type": "code",
   "execution_count": 3,
   "metadata": {
    "collapsed": false
   },
   "outputs": [
    {
     "data": {
      "text/plain": [
       "{'London': {'IP': '208.65.255.10'}, 'Madrid': {'IP': '208.65.255.10'}}"
      ]
     },
     "execution_count": 3,
     "metadata": {},
     "output_type": "execute_result"
    }
   ],
   "source": [
    "# Baltimore, Maryland, USA\n",
    "closest_cities(39.285879, -76.550419, 2)"
   ]
  },
  {
   "cell_type": "code",
   "execution_count": 4,
   "metadata": {
    "collapsed": false
   },
   "outputs": [
    {
     "data": {
      "text/plain": [
       "{'Copenhagen': {'IP': '208.65.255.10'}, 'Oslo': {'IP': '208.65.255.10'}}"
      ]
     },
     "execution_count": 4,
     "metadata": {},
     "output_type": "execute_result"
    }
   ],
   "source": [
    "# Copenhagan, Denmark\n",
    "closest_cities(55.676097, 12.568337, 1) "
   ]
  }
 ],
 "metadata": {
  "kernelspec": {
   "display_name": "Python 2",
   "language": "python",
   "name": "python2"
  },
  "language_info": {
   "codemirror_mode": {
    "name": "ipython",
    "version": 2
   },
   "file_extension": ".py",
   "mimetype": "text/x-python",
   "name": "python",
   "nbconvert_exporter": "python",
   "pygments_lexer": "ipython2",
   "version": "2.7.12"
  }
 },
 "nbformat": 4,
 "nbformat_minor": 0
}
